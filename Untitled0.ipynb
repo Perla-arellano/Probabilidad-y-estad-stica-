{
  "nbformat": 4,
  "nbformat_minor": 0,
  "metadata": {
    "colab": {
      "provenance": [],
      "authorship_tag": "ABX9TyNsW4ear1IFiMe7aRoTgdVn",
      "include_colab_link": true
    },
    "kernelspec": {
      "name": "python3",
      "display_name": "Python 3"
    },
    "language_info": {
      "name": "python"
    }
  },
  "cells": [
    {
      "cell_type": "markdown",
      "metadata": {
        "id": "view-in-github",
        "colab_type": "text"
      },
      "source": [
        "<a href=\"https://colab.research.google.com/github/Perla-arellano/Probabilidad-y-estad-stica-/blob/main/Untitled0.ipynb\" target=\"_parent\"><img src=\"https://colab.research.google.com/assets/colab-badge.svg\" alt=\"Open In Colab\"/></a>"
      ]
    },
    {
      "cell_type": "markdown",
      "source": [
        "1.practica estadistica descrptiva"
      ],
      "metadata": {
        "id": "M2jNrtaFv-m0"
      }
    },
    {
      "cell_type": "code",
      "source": [
        "from statistics import*"
      ],
      "metadata": {
        "id": "2ZvSIVG5wA5W"
      },
      "execution_count": 6,
      "outputs": []
    },
    {
      "cell_type": "code",
      "source": [
        "#lista de calificaciones del grupo a de probabilidad y estadistica\n",
        "grupoa = [70,70,65,90,100,95,45,80,73,20,100,96]\n",
        "print (grupoa)"
      ],
      "metadata": {
        "colab": {
          "base_uri": "https://localhost:8080/"
        },
        "id": "OBWSve0NwJam",
        "outputId": "17385732-a4f9-41dd-bf35-e8e3d91ce59a"
      },
      "execution_count": 1,
      "outputs": [
        {
          "output_type": "stream",
          "name": "stdout",
          "text": [
            "[70, 70, 65, 90, 100, 95, 45, 80, 73, 20, 100, 96]\n"
          ]
        }
      ]
    },
    {
      "cell_type": "code",
      "source": [
        "#sacra la medida de las calificaciones con una formula\n",
        "\n",
        "promedio = sum(grupoa)/ len(grupoa)\n",
        "print(promedio)"
      ],
      "metadata": {
        "colab": {
          "base_uri": "https://localhost:8080/"
        },
        "id": "KcdiFVLHxfzj",
        "outputId": "4779a16a-9f53-4d2a-e331-a9acd81f07bc"
      },
      "execution_count": 2,
      "outputs": [
        {
          "output_type": "stream",
          "name": "stdout",
          "text": [
            "75.33333333333333\n"
          ]
        }
      ]
    },
    {
      "cell_type": "code",
      "source": [
        "#utilizar la funcion mean que esta en la libreria satistics para sacar\n",
        "#el promedio\n",
        "promedio2 = mean(grupoa)\n",
        "print(promedio2)"
      ],
      "metadata": {
        "colab": {
          "base_uri": "https://localhost:8080/"
        },
        "collapsed": true,
        "id": "GIijIApOx6qY",
        "outputId": "8e58b920-6fe4-4543-f4d5-3d4913478d42"
      },
      "execution_count": 7,
      "outputs": [
        {
          "output_type": "stream",
          "name": "stdout",
          "text": [
            "75.33333333333333\n"
          ]
        }
      ]
    },
    {
      "cell_type": "code",
      "source": [
        "#determinar el valor de la mediana con la funcion median\n",
        "mediana = median(grupoa)\n",
        "print(mediana)"
      ],
      "metadata": {
        "colab": {
          "base_uri": "https://localhost:8080/"
        },
        "id": "ZLyRxEm2ycZ7",
        "outputId": "e397623f-3c41-468c-82ab-194e65b576b2"
      },
      "execution_count": 8,
      "outputs": [
        {
          "output_type": "stream",
          "name": "stdout",
          "text": [
            "76.5\n"
          ]
        }
      ]
    },
    {
      "cell_type": "code",
      "source": [
        "#determinar el valor de la moda con la funcion mode\n",
        "moda=mode(grupoa)\n",
        "print(moda)"
      ],
      "metadata": {
        "colab": {
          "base_uri": "https://localhost:8080/"
        },
        "id": "8bI5XNEBzjIb",
        "outputId": "1bcf5131-b4e9-4deb-9c99-195f3398e9cd"
      },
      "execution_count": 9,
      "outputs": [
        {
          "output_type": "stream",
          "name": "stdout",
          "text": [
            "70\n"
          ]
        }
      ]
    },
    {
      "cell_type": "code",
      "source": [
        "#en caso de que exista mas de una moda, se pued emplear la funcion multimode par\n",
        "#multiples modas puedan existir\n",
        "moda2 =multimode(grupoa)\n"
      ],
      "metadata": {
        "id": "6vtSb1_8z_V6"
      },
      "execution_count": null,
      "outputs": []
    },
    {
      "cell_type": "code",
      "source": [
        "#definamos una variable llamada tiempos 100mts de tipo lista, que contiene\n",
        "#los tiempos que tardaron los 10 alumnos para correr los 10 metros\n",
        "tiempos100mts=[15.10, 17.20,14.69, 13.27,22.15,18.71,19.15,20.65,15.10,17.20]\n",
        "\n",
        "#desplegamos los valores de la lista\n",
        "print(tiempos100mts)"
      ],
      "metadata": {
        "colab": {
          "base_uri": "https://localhost:8080/"
        },
        "id": "V30TzhQp0WB4",
        "outputId": "9418f8a9-62b3-480b-e799-d69a92f6b772"
      },
      "execution_count": 10,
      "outputs": [
        {
          "output_type": "stream",
          "name": "stdout",
          "text": [
            "[15.1, 17.2, 14.69, 13.27, 22.15, 18.71, 19.15, 20.65, 15.1, 17.2]\n"
          ]
        }
      ]
    },
    {
      "cell_type": "code",
      "source": [
        "#usamos la funcion mean para determinar promedio de la lista de valores\n",
        "\n",
        "print(\"el tiempo de los corredores es=>\", mean(tiempos100mts))"
      ],
      "metadata": {
        "colab": {
          "base_uri": "https://localhost:8080/"
        },
        "id": "BDLV1Pkm1LyW",
        "outputId": "142ed338-0099-4767-e931-9e5f2fd68474"
      },
      "execution_count": 11,
      "outputs": [
        {
          "output_type": "stream",
          "name": "stdout",
          "text": [
            "el tiempo de los corredores es=> 17.322\n"
          ]
        }
      ]
    },
    {
      "cell_type": "code",
      "source": [
        "#usamos la funcion median para determinar el tiempo promedio de la lista de valores\n",
        "\n",
        "#definimos una variable llamada media para calcular la mediana de la lista con un median"
      ],
      "metadata": {
        "id": "KNkhEI0H1n6y"
      },
      "execution_count": null,
      "outputs": []
    },
    {
      "cell_type": "code",
      "source": [
        "moda = mode(tiempos100mts)\n",
        "print(\"la moda de los tiempos\",moda)"
      ],
      "metadata": {
        "colab": {
          "base_uri": "https://localhost:8080/"
        },
        "id": "X-qjoUuo19E5",
        "outputId": "bf7135fc-1bcb-4c17-d481-f41a06f267ed"
      },
      "execution_count": 12,
      "outputs": [
        {
          "output_type": "stream",
          "name": "stdout",
          "text": [
            "la moda de los tiempos 15.1\n"
          ]
        }
      ]
    },
    {
      "cell_type": "code",
      "source": [
        "multimodas =multimode(tiempos100mts)\n",
        "print(\"la moda de los tiempos es \",multimodas)"
      ],
      "metadata": {
        "colab": {
          "base_uri": "https://localhost:8080/"
        },
        "id": "y-7BpxfS2Pq2",
        "outputId": "f13bb6ef-7706-4ef0-a206-da711d52a442"
      },
      "execution_count": 14,
      "outputs": [
        {
          "output_type": "stream",
          "name": "stdout",
          "text": [
            "la moda de los tiempos es  [15.1, 17.2]\n"
          ]
        }
      ]
    },
    {
      "cell_type": "code",
      "source": [
        "#libreria para generar numeros aleatorios\n",
        "import random"
      ],
      "metadata": {
        "id": "Or4g8GHP2m8z"
      },
      "execution_count": 15,
      "outputs": []
    },
    {
      "cell_type": "code",
      "source": [
        "fabrica1 = []\n",
        "for i in range(100):\n",
        "  numero_aleatorio = round(random.uniform(50,100),2)\n",
        "  fabrica1.append(numero_aleatorio)\n",
        "print(fabrica1)"
      ],
      "metadata": {
        "colab": {
          "base_uri": "https://localhost:8080/"
        },
        "id": "i2vDQoaj3MMU",
        "outputId": "94c7f9d2-817e-43bc-8210-db0a1af0a7b7"
      },
      "execution_count": 16,
      "outputs": [
        {
          "output_type": "stream",
          "name": "stdout",
          "text": [
            "[59.67, 98.7, 88.26, 83.27, 77.31, 95.06, 57.96, 99.23, 66.0, 86.54, 54.59, 96.54, 60.14, 56.75, 68.4, 63.88, 88.51, 72.03, 70.66, 64.41, 84.08, 59.77, 69.06, 85.42, 74.51, 99.15, 74.18, 70.78, 79.73, 93.41, 57.63, 83.38, 97.44, 52.23, 84.83, 68.09, 65.08, 70.46, 61.57, 84.36, 92.38, 73.39, 96.5, 90.89, 83.03, 84.97, 52.13, 64.8, 79.81, 76.92, 58.96, 80.94, 91.13, 90.72, 57.71, 84.83, 60.56, 75.24, 68.58, 85.65, 51.56, 61.05, 96.27, 84.71, 81.57, 53.51, 70.96, 91.7, 88.89, 99.21, 87.26, 75.97, 79.56, 85.3, 77.96, 98.94, 91.9, 57.5, 73.91, 80.57, 98.75, 83.81, 55.09, 84.4, 84.17, 82.95, 69.7, 54.51, 68.48, 57.1, 63.14, 69.21, 75.24, 96.45, 58.95, 77.52, 78.18, 50.05, 52.23, 94.86]\n"
          ]
        }
      ]
    },
    {
      "cell_type": "code",
      "source": [
        "fabrica2 = []\n",
        "for i in range(100):\n",
        "  numero_aleatorio = round(random.uniform(50,100),2)\n",
        "  fabrica2.append(numero_aleatorio)\n",
        "print(fabrica2)"
      ],
      "metadata": {
        "colab": {
          "base_uri": "https://localhost:8080/"
        },
        "id": "cRujP6td4lqt",
        "outputId": "a6c0fbd4-99d5-4c40-8d6a-3204a5141b87"
      },
      "execution_count": 17,
      "outputs": [
        {
          "output_type": "stream",
          "name": "stdout",
          "text": [
            "[70.59, 86.13, 75.46, 76.52, 62.01, 72.17, 79.57, 73.19, 92.36, 71.12, 71.51, 83.14, 88.94, 96.51, 83.2, 77.15, 61.02, 62.71, 78.8, 53.26, 87.89, 95.93, 97.45, 87.61, 67.67, 55.83, 53.11, 51.14, 82.61, 83.27, 69.24, 92.41, 58.4, 97.49, 53.84, 66.27, 54.12, 72.66, 99.49, 83.9, 58.17, 59.92, 54.48, 63.57, 94.39, 91.2, 92.17, 69.31, 84.05, 94.3, 59.36, 71.51, 65.53, 75.29, 50.05, 73.34, 85.13, 61.77, 82.27, 85.92, 94.3, 95.34, 63.87, 61.94, 94.1, 51.87, 71.03, 67.05, 98.89, 82.49, 71.33, 70.42, 94.11, 57.92, 71.32, 86.83, 93.87, 55.69, 92.39, 54.17, 81.11, 90.1, 91.03, 85.04, 63.25, 61.47, 72.14, 74.21, 92.25, 89.9, 71.92, 84.3, 63.79, 90.12, 54.72, 82.72, 67.91, 84.89, 74.49, 77.01]\n"
          ]
        }
      ]
    },
    {
      "cell_type": "code",
      "source": [
        "import matplotlib.pyplot as plt\n"
      ],
      "metadata": {
        "id": "Lak3IzEu46TB"
      },
      "execution_count": 19,
      "outputs": []
    },
    {
      "cell_type": "code",
      "source": [
        "plt.hist(fabrica1)\n",
        "plt.title(\"produccion diaria de la fabrica1\")\n"
      ],
      "metadata": {
        "colab": {
          "base_uri": "https://localhost:8080/",
          "height": 469
        },
        "id": "Y0ZGVDGg5HQq",
        "outputId": "589977ae-b52d-4704-8fb9-88e20402f065"
      },
      "execution_count": 20,
      "outputs": [
        {
          "output_type": "execute_result",
          "data": {
            "text/plain": [
              "Text(0.5, 1.0, 'produccion diaria de la fabrica1')"
            ]
          },
          "metadata": {},
          "execution_count": 20
        },
        {
          "output_type": "display_data",
          "data": {
            "text/plain": [
              "<Figure size 640x480 with 1 Axes>"
            ],
            "image/png": "[encoded data removed]"
          },
          "metadata": {}
        }
      ]
    }
  ]
}