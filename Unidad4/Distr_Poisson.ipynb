{
  "nbformat": 4,
  "nbformat_minor": 0,
  "metadata": {
    "colab": {
      "provenance": [],
      "authorship_tag": "ABX9TyO5NkE1lr87Y2BUe4PG7fdC",
      "include_colab_link": true
    },
    "kernelspec": {
      "name": "python3",
      "display_name": "Python 3"
    },
    "language_info": {
      "name": "python"
    }
  },
  "cells": [
    {
      "cell_type": "markdown",
      "metadata": {
        "id": "view-in-github",
        "colab_type": "text"
      },
      "source": [
        "<a href=\"https://colab.research.google.com/github/Perla-arellano/Probabilidad-y-estad-stica-/blob/main/Unidad4/Distr_Poisson.ipynb\" target=\"_parent\"><img src=\"https://colab.research.google.com/assets/colab-badge.svg\" alt=\"Open In Colab\"/></a>"
      ]
    },
    {
      "cell_type": "markdown",
      "source": [
        "#Distribucion de Poisson\n",
        "##ejercicio 1"
      ],
      "metadata": {
        "id": "oed8OjNXc1S0"
      }
    },
    {
      "cell_type": "code",
      "source": [
        "from scipy.stats import poisson\n",
        "# Parámetros de la distribución de Poisson\n",
        "media_muertes = 5000 * 0.001 # 5000 hombres con una probabilidad de muerte de 0.001\n",
        "# Número de reclamaciones\n",
        "x = 4\n",
        "# Calcular la probabilidad de que la compañía tenga que pagar 4 reclamaciones en un año determinado\n",
        "probabilidad_4_reclamaciones = poisson.pmf(x, media_muertes)\n",
        "print(\"La probabilidad de que la compañía tenga que pagar 4 reclamaciones es DE:\",\n",
        "probabilidad_4_reclamaciones)"
      ],
      "metadata": {
        "colab": {
          "base_uri": "https://localhost:8080/"
        },
        "id": "WL-EzNW_dQh4",
        "outputId": "70c2301f-ed54-433c-a69f-ee811370a3fd"
      },
      "execution_count": 1,
      "outputs": [
        {
          "output_type": "stream",
          "name": "stdout",
          "text": [
            "La probabilidad de que la compañía tenga que pagar 4 reclamaciones es DE: 0.17546736976785063\n"
          ]
        }
      ]
    },
    {
      "cell_type": "code",
      "source": [
        "from scipy.stats import poisson\n",
        "# Parámetros de la distribución de Poisson\n",
        "media_accidentes = 2\n",
        "# Parte 1: Probabilidad de que no haya accidentes en 1 semana\n",
        "probabilidad_0_accidentes = poisson.pmf(0, media_accidentes)\n",
        "print(\"1. Probabilidad de que no haya accidentes en 1 semana:\", probabilidad_0_accidentes)\n",
        "# Parte 2: Probabilidad de que al menos haya tres accidentes en 2 semanas\n",
        "# Convertimos la media a una media para 2 semanas\n",
        "media_2_semanas = media_accidentes * 2\n",
        "# Calculamos la probabilidad acumulada de hasta 3 accidentes en 2 semanas\n",
        "probabilidad_3_o_menos_accidentes = poisson.cdf(3, media_2_semanas)\n",
        "print(\"2. Probabilidad de que al menos haya tres accidentes en 2 semanas:\", probabilidad_3_o_menos_accidentes)"
      ],
      "metadata": {
        "colab": {
          "base_uri": "https://localhost:8080/"
        },
        "id": "ARqsI0oads5N",
        "outputId": "da3d2831-ed8e-432d-adee-84e9fba635a4"
      },
      "execution_count": 2,
      "outputs": [
        {
          "output_type": "stream",
          "name": "stdout",
          "text": [
            "1. Probabilidad de que no haya accidentes en 1 semana: 0.1353352832366127\n",
            "2. Probabilidad de que al menos haya tres accidentes en 2 semanas: 0.43347012036670896\n"
          ]
        }
      ]
    }
  ]
}