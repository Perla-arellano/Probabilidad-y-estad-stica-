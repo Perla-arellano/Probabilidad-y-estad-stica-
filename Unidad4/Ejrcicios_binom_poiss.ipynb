{
  "nbformat": 4,
  "nbformat_minor": 0,
  "metadata": {
    "colab": {
      "provenance": [],
      "authorship_tag": "ABX9TyNghrSSVLzw+Ppq8YqGnqPx",
      "include_colab_link": true
    },
    "kernelspec": {
      "name": "python3",
      "display_name": "Python 3"
    },
    "language_info": {
      "name": "python"
    }
  },
  "cells": [
    {
      "cell_type": "markdown",
      "metadata": {
        "id": "view-in-github",
        "colab_type": "text"
      },
      "source": [
        "<a href=\"https://colab.research.google.com/github/Perla-arellano/Probabilidad-y-estad-stica-/blob/main/Unidad4/Ejrcicios_binom_poiss.ipynb\" target=\"_parent\"><img src=\"https://colab.research.google.com/assets/colab-badge.svg\" alt=\"Open In Colab\"/></a>"
      ]
    },
    {
      "cell_type": "markdown",
      "source": [
        "#Ejercicios de Distribucion binomial y Poisson\n",
        "##ejercicio 1 poisson"
      ],
      "metadata": {
        "id": "j-PvGKYteqnD"
      }
    },
    {
      "cell_type": "code",
      "source": [
        "from scipy.stats import poisson\n",
        "\n",
        "# Parámetro de la distribución Poisson\n",
        "lambda_ = 5\n",
        "\n",
        "# a) P(X = 2)\n",
        "prob_dos = poisson.pmf(2, mu=lambda_)\n",
        "print(f\"🔹 a) Probabilidad de que ingresen 2 personas en un día: {prob_dos:.4f}\")\n",
        "\n",
        "# b) P(X > 10) = 1 - P(X <= 10)\n",
        "prob_mayor_10 = 1 - poisson.cdf(10, mu=lambda_)\n",
        "print(f\"🔹 b) Probabilidad de que ingresen MÁS de 10 personas: {prob_mayor_10:.4f}\")\n",
        "\n",
        "# Explicación sencilla para la parte b\n",
        "if prob_mayor_10 > 0.05:\n",
        "    print(\" Es razonablemente probable que ingresen más de 10 personas en un día.\")\n",
        "else:\n",
        "    print(\" Es poco probable que ingresen más de 10 personas en un día.\")\n"
      ],
      "metadata": {
        "colab": {
          "base_uri": "https://localhost:8080/"
        },
        "id": "o7JsF2TIe7bS",
        "outputId": "99e81da8-b274-45cc-b84e-e111262de3df"
      },
      "execution_count": 1,
      "outputs": [
        {
          "output_type": "stream",
          "name": "stdout",
          "text": [
            "🔹 a) Probabilidad de que ingresen 2 personas en un día: 0.0842\n",
            "🔹 b) Probabilidad de que ingresen MÁS de 10 personas: 0.0137\n",
            " Es poco probable que ingresen más de 10 personas en un día.\n"
          ]
        }
      ]
    },
    {
      "cell_type": "markdown",
      "source": [
        "##Ejercicio 1 binomial"
      ],
      "metadata": {
        "id": "DZBpRWPifZR9"
      }
    },
    {
      "cell_type": "code",
      "source": [
        "from scipy.stats import binom\n",
        "\n",
        "# Parámetros\n",
        "n = 1000       # Número de motores\n",
        "p = 0.001      # Probabilidad de defecto\n",
        "\n",
        "# a) P(X = 0)\n",
        "prob_0 = binom.pmf(0, n, p)\n",
        "\n",
        "# b) P(X = 3)\n",
        "prob_3 = binom.pmf(3, n, p)\n",
        "\n",
        "# c) P(X = 4)\n",
        "prob_4 = binom.pmf(4, n, p)\n"
      ],
      "metadata": {
        "id": "z_RtliWsfV76"
      },
      "execution_count": 2,
      "outputs": []
    }
  ]
}