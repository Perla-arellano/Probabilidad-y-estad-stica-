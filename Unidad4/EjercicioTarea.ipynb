{
  "nbformat": 4,
  "nbformat_minor": 0,
  "metadata": {
    "colab": {
      "provenance": [],
      "authorship_tag": "ABX9TyPxphceEE6xaPlwTD+KxINt",
      "include_colab_link": true
    },
    "kernelspec": {
      "name": "python3",
      "display_name": "Python 3"
    },
    "language_info": {
      "name": "python"
    }
  },
  "cells": [
    {
      "cell_type": "markdown",
      "metadata": {
        "id": "view-in-github",
        "colab_type": "text"
      },
      "source": [
        "<a href=\"https://colab.research.google.com/github/Perla-arellano/Probabilidad-y-estad-stica-/blob/main/Unidad4/EjercicioTarea.ipynb\" target=\"_parent\"><img src=\"https://colab.research.google.com/assets/colab-badge.svg\" alt=\"Open In Colab\"/></a>"
      ]
    },
    {
      "cell_type": "markdown",
      "source": [
        "#Tarea Probabilidad y estadistica\n",
        "##Ejercicio1"
      ],
      "metadata": {
        "id": "wapUnGA-h-_I"
      }
    },
    {
      "cell_type": "code",
      "source": [
        "from scipy.stats import norm\n",
        "\n",
        "# Datos del problema\n",
        "media = 70\n",
        "desviacion = 4\n",
        "n_estudiantes = 500\n",
        "\n",
        "# Rango que nos interesa: entre 68 y 72 kg\n",
        "limite_inferior = 68\n",
        "limite_superior = 72"
      ],
      "metadata": {
        "id": "0ii_M_68ij_2"
      },
      "execution_count": 5,
      "outputs": []
    },
    {
      "cell_type": "code",
      "source": [
        "probabilidad = norm.cdf(limite_superior, media, desviacion) - norm.cdf(limite_inferior, media, desviacion)\n",
        "porcentaje = probabilidad * 100\n",
        "print(f\"🔹 Probabilidad de pesar entre 68 y 72 kg: {probabilidad:.4f} ({porcentaje:.2f}%)\")"
      ],
      "metadata": {
        "colab": {
          "base_uri": "https://localhost:8080/"
        },
        "id": "47Q3vlCPiwqE",
        "outputId": "61a3ef97-ce0d-4dcf-a2de-c984c32227cf"
      },
      "execution_count": 6,
      "outputs": [
        {
          "output_type": "stream",
          "name": "stdout",
          "text": [
            "🔹 Probabilidad de pesar entre 68 y 72 kg: 0.3829 (38.29%)\n"
          ]
        }
      ]
    },
    {
      "cell_type": "code",
      "source": [
        "cantidad_estudiantes = probabilidad * n_estudiantes\n",
        "print(f\"🔹 Estudiantes que pesan entre 68 y 72 kg: {cantidad_estudiantes:.0f} de {n_estudiantes}\")\n",
        ""
      ],
      "metadata": {
        "colab": {
          "base_uri": "https://localhost:8080/"
        },
        "id": "s3OWKRkXi_mt",
        "outputId": "20357bf6-be56-49bc-f30c-59791f4dea30"
      },
      "execution_count": 7,
      "outputs": [
        {
          "output_type": "stream",
          "name": "stdout",
          "text": [
            "🔹 Estudiantes que pesan entre 68 y 72 kg: 191 de 500\n"
          ]
        }
      ]
    }
  ]
}