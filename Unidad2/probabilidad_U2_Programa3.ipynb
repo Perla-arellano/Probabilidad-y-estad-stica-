{
  "nbformat": 4,
  "nbformat_minor": 0,
  "metadata": {
    "colab": {
      "provenance": [],
      "authorship_tag": "ABX9TyN3ZaezmBDDSXF26VOI4QIV",
      "include_colab_link": true
    },
    "kernelspec": {
      "name": "python3",
      "display_name": "Python 3"
    },
    "language_info": {
      "name": "python"
    }
  },
  "cells": [
    {
      "cell_type": "markdown",
      "metadata": {
        "id": "view-in-github",
        "colab_type": "text"
      },
      "source": [
        "<a href=\"https://colab.research.google.com/github/Perla-arellano/Probabilidad-y-estad-stica-/blob/main/Unidad2/probabilidad_U2_Programa3.ipynb\" target=\"_parent\"><img src=\"https://colab.research.google.com/assets/colab-badge.svg\" alt=\"Open In Colab\"/></a>"
      ]
    },
    {
      "cell_type": "markdown",
      "source": [
        "Probabilidad y estadistica.Unidad2\n",
        "\n",
        "Practica3\n",
        "\n",
        "#Permutaciones\n",
        "\n",
        "alumna:Arellano santillan Perla yesenia\n",
        "\n",
        "docente:Dr rodriguez rivas jose gabriel\n",
        "\n",
        "**Ejercicio**:\n",
        "Existen diez asistentes de profesor disponibles para calificar exámenes en un curso de cálculo en una gran universidad.\n",
        "2. El primer examen se compone de cuatro preguntas y el profesor desea seleccionar un asistente diferente para calificar\n",
        "cada pregunta (sólo un asistente por pregunta).\n",
        "3. ¿De cuántas maneras se pueden elegir los asistentes para calificar?\n",
        "4. En este caso n = tamaño del grupo = 10 y k = tamaño del subconjunto = 4.\n",
        "5. El número de permutaciones es\n"
      ],
      "metadata": {
        "id": "3gWkvbOKHYXQ"
      }
    },
    {
      "cell_type": "code",
      "execution_count": 3,
      "metadata": {
        "colab": {
          "base_uri": "https://localhost:8080/"
        },
        "id": "DjLzP1I_HOVj",
        "outputId": "a6763267-9d65-426b-9251-88d475428747"
      },
      "outputs": [
        {
          "output_type": "stream",
          "name": "stdout",
          "text": [
            "el numero de permutaciones es: 5040.0\n",
            "el numero de combinaciones es: 210\n"
          ]
        }
      ],
      "source": [
        "import math\n",
        "\n",
        "n=10 #tamaño del grupo\n",
        "k=4 #tamaño del subconjunto\n",
        "permutaciones=math.factorial(n)/math.factorial(n-k)\n",
        "print(\"el numero de permutaciones es:\",permutaciones)\n",
        "combinaciones = math.comb(n,k)\n",
        "print(\"el numero de combinaciones es:\",combinaciones)"
      ]
    }
  ]
}