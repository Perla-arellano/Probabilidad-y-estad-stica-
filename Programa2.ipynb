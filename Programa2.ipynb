{
  "nbformat": 4,
  "nbformat_minor": 0,
  "metadata": {
    "colab": {
      "provenance": [],
      "authorship_tag": "ABX9TyNFXms0cbIKLcKpsnR8tKHQ",
      "include_colab_link": true
    },
    "kernelspec": {
      "name": "python3",
      "display_name": "Python 3"
    },
    "language_info": {
      "name": "python"
    }
  },
  "cells": [
    {
      "cell_type": "markdown",
      "metadata": {
        "id": "view-in-github",
        "colab_type": "text"
      },
      "source": [
        "<a href=\"https://colab.research.google.com/github/Perla-arellano/Probabilidad-y-estad-stica-/blob/main/Programa2.ipynb\" target=\"_parent\"><img src=\"https://colab.research.google.com/assets/colab-badge.svg\" alt=\"Open In Colab\"/></a>"
      ]
    },
    {
      "cell_type": "code",
      "execution_count": 3,
      "metadata": {
        "colab": {
          "base_uri": "https://localhost:8080/"
        },
        "collapsed": true,
        "id": "SaoIguJO3q5U",
        "outputId": "5a5089b7-bd97-4355-a3f3-1895c5ddf8b7"
      },
      "outputs": [
        {
          "output_type": "stream",
          "name": "stdout",
          "text": [
            "b es mayor a\n"
          ]
        }
      ],
      "source": [
        "a = 12\n",
        "b = 25\n",
        "if a > b:\n",
        "  print(\"a es mayor que b\")\n",
        "else:\n",
        "  print(\"b es mayor a\")\n"
      ]
    },
    {
      "cell_type": "markdown",
      "source": [
        "\n",
        "# probabilidad y estadistica\n",
        "##unidad 1\n",
        "###grupo:**2z**\n",
        "###practica 0. Introduccion a phyton\n",
        "Alumno:\n",
        " Docente:"
      ],
      "metadata": {
        "id": "8sIaSZq86ZpX"
      }
    },
    {
      "cell_type": "code",
      "source": [
        "#holis esto es un comentario\n",
        "for i in range(10):\n",
        "  print(i)\n",
        "  print(\"hola\",i)\n",
        "print(\"fuera el for\")"
      ],
      "metadata": {
        "colab": {
          "base_uri": "https://localhost:8080/"
        },
        "collapsed": true,
        "id": "pu92IWCf46wU",
        "outputId": "19faf5ee-c8c8-4bfc-d24f-54ad2b122619"
      },
      "execution_count": 2,
      "outputs": [
        {
          "output_type": "stream",
          "name": "stdout",
          "text": [
            "0\n",
            "hola 0\n",
            "1\n",
            "hola 1\n",
            "2\n",
            "hola 2\n",
            "3\n",
            "hola 3\n",
            "4\n",
            "hola 4\n",
            "5\n",
            "hola 5\n",
            "6\n",
            "hola 6\n",
            "7\n",
            "hola 7\n",
            "8\n",
            "hola 8\n",
            "9\n",
            "hola 9\n",
            "fuera el for\n"
          ]
        }
      ]
    }
  ]
}