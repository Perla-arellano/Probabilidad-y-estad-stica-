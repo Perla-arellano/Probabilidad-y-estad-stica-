{
  "nbformat": 4,
  "nbformat_minor": 0,
  "metadata": {
    "colab": {
      "provenance": [],
      "name": "Programa1.ipynb",
      "authorship_tag": "ABX9TyM5QBJZajwoVI9w0cozPKH6",
      "include_colab_link": true
    },
    "kernelspec": {
      "name": "python3",
      "display_name": "Python 3"
    },
    "language_info": {
      "name": "python"
    }
  },
  "cells": [
    {
      "cell_type": "markdown",
      "metadata": {
        "id": "view-in-github",
        "colab_type": "text"
      },
      "source": [
        "<a href=\"https://colab.research.google.com/github/Perla-arellano/Probabilidad-y-estad-stica-/blob/main/Unidad1/Programa1.ipynb\" target=\"_parent\"><img src=\"https://colab.research.google.com/assets/colab-badge.svg\" alt=\"Open In Colab\"/></a>"
      ]
    },
    {
      "cell_type": "markdown",
      "source": [
        "# probabilidad y estadistica\n",
        "##1.practica estadistica descrptiva basica e histogramas.##\n",
        "unidad 1\n",
        "\n",
        "docente:Dr Jose gabriel Rodriguez rivas\n",
        "\n",
        "alumna: Arellano Santillan Perla yesenia"
      ],
      "metadata": {
        "id": "M2jNrtaFv-m0"
      }
    },
    {
      "cell_type": "code",
      "source": [
        "from statistics import*"
      ],
      "metadata": {
        "id": "2ZvSIVG5wA5W"
      },
      "execution_count": null,
      "outputs": []
    },
    {
      "cell_type": "code",
      "source": [
        "#lista de calificaciones del grupo a de probabilidad y estadistica\n",
        "grupoa = [70,70,65,90,100,95,45,80,73,20,100,96]\n",
        "print (grupoa)"
      ],
      "metadata": {
        "colab": {
          "base_uri": "https://localhost:8080/"
        },
        "id": "OBWSve0NwJam",
        "outputId": "635ece97-3ecb-45a6-a6dc-e598da80479d"
      },
      "execution_count": null,
      "outputs": [
        {
          "output_type": "stream",
          "name": "stdout",
          "text": [
            "[70, 70, 65, 90, 100, 95, 45, 80, 73, 20, 100, 96]\n"
          ]
        }
      ]
    },
    {
      "cell_type": "code",
      "source": [
        "#sacra la medida de las calificaciones con una formula\n",
        "\n",
        "promedio = sum(grupoa)/ len(grupoa)\n",
        "print(promedio)"
      ],
      "metadata": {
        "colab": {
          "base_uri": "https://localhost:8080/"
        },
        "id": "KcdiFVLHxfzj",
        "outputId": "d4a8630f-0608-4ce4-9019-24860d90dc54"
      },
      "execution_count": null,
      "outputs": [
        {
          "output_type": "stream",
          "name": "stdout",
          "text": [
            "75.33333333333333\n"
          ]
        }
      ]
    },
    {
      "cell_type": "code",
      "source": [
        "#utilizar la funcion mean que esta en la libreria satistics para sacar\n",
        "#el promedio\n",
        "promedio2 = mean(grupoa)\n",
        "print(promedio2)"
      ],
      "metadata": {
        "colab": {
          "base_uri": "https://localhost:8080/"
        },
        "collapsed": true,
        "id": "GIijIApOx6qY",
        "outputId": "4ab4fd53-0a8c-4c60-f39e-43829bfdd265"
      },
      "execution_count": null,
      "outputs": [
        {
          "output_type": "stream",
          "name": "stdout",
          "text": [
            "75.33333333333333\n"
          ]
        }
      ]
    },
    {
      "cell_type": "code",
      "source": [
        "#determinar el valor de la mediana con la funcion median\n",
        "mediana = median(grupoa)\n",
        "print(mediana)"
      ],
      "metadata": {
        "colab": {
          "base_uri": "https://localhost:8080/"
        },
        "id": "ZLyRxEm2ycZ7",
        "outputId": "c964e9f4-d4f5-4652-b410-947cd4d9da0f"
      },
      "execution_count": null,
      "outputs": [
        {
          "output_type": "stream",
          "name": "stdout",
          "text": [
            "76.5\n"
          ]
        }
      ]
    },
    {
      "cell_type": "code",
      "source": [
        "#determinar el valor de la moda con la funcion mode\n",
        "moda=mode(grupoa)\n",
        "print(moda)"
      ],
      "metadata": {
        "colab": {
          "base_uri": "https://localhost:8080/"
        },
        "id": "8bI5XNEBzjIb",
        "outputId": "7dec158a-00ce-4dc4-8c08-c543219452af"
      },
      "execution_count": null,
      "outputs": [
        {
          "output_type": "stream",
          "name": "stdout",
          "text": [
            "70\n"
          ]
        }
      ]
    },
    {
      "cell_type": "code",
      "source": [
        "#en caso de que exista mas de una moda, se pued emplear la funcion multimode par\n",
        "#multiples modas puedan existir\n",
        "moda2 =multimode(grupoa)\n"
      ],
      "metadata": {
        "id": "6vtSb1_8z_V6"
      },
      "execution_count": null,
      "outputs": []
    },
    {
      "cell_type": "code",
      "source": [
        "#definamos una variable llamada tiempos 100mts de tipo lista, que contiene\n",
        "#los tiempos que tardaron los 10 alumnos para correr los 10 metros\n",
        "tiempos100mts=[15.10, 17.20,14.69, 13.27,22.15,18.71,19.15,20.65,15.10,17.20]\n",
        "\n",
        "#desplegamos los valores de la lista\n",
        "print(tiempos100mts)"
      ],
      "metadata": {
        "colab": {
          "base_uri": "https://localhost:8080/"
        },
        "id": "V30TzhQp0WB4",
        "outputId": "2ca515eb-17be-4d87-e921-4824e3a96a14"
      },
      "execution_count": null,
      "outputs": [
        {
          "output_type": "stream",
          "name": "stdout",
          "text": [
            "[15.1, 17.2, 14.69, 13.27, 22.15, 18.71, 19.15, 20.65, 15.1, 17.2]\n"
          ]
        }
      ]
    },
    {
      "cell_type": "code",
      "source": [
        "#usamos la funcion mean para determinar promedio de la lista de valores\n",
        "\n",
        "print(\"el tiempo de los corredores es=>\", mean(tiempos100mts))"
      ],
      "metadata": {
        "colab": {
          "base_uri": "https://localhost:8080/"
        },
        "id": "BDLV1Pkm1LyW",
        "outputId": "7ba24e88-9a80-4e7d-b596-ed83a40dd3e6"
      },
      "execution_count": null,
      "outputs": [
        {
          "output_type": "stream",
          "name": "stdout",
          "text": [
            "el tiempo de los corredores es=> 17.322\n"
          ]
        }
      ]
    },
    {
      "cell_type": "code",
      "source": [
        "#usamos la funcion median para determinar el tiempo promedio de la lista de valores\n",
        "\n",
        "#definimos una variable llamada media para calcular la mediana de la lista con un median"
      ],
      "metadata": {
        "id": "KNkhEI0H1n6y"
      },
      "execution_count": null,
      "outputs": []
    },
    {
      "cell_type": "code",
      "source": [
        "moda = mode(tiempos100mts)\n",
        "print(\"la moda de los tiempos\",moda)"
      ],
      "metadata": {
        "colab": {
          "base_uri": "https://localhost:8080/"
        },
        "id": "X-qjoUuo19E5",
        "outputId": "e2a18f10-a002-4099-b7b2-6594144d9c4b"
      },
      "execution_count": null,
      "outputs": [
        {
          "output_type": "stream",
          "name": "stdout",
          "text": [
            "la moda de los tiempos 15.1\n"
          ]
        }
      ]
    },
    {
      "cell_type": "code",
      "source": [
        "multimodas =multimode(tiempos100mts)\n",
        "print(\"la moda de los tiempos es \",multimodas)"
      ],
      "metadata": {
        "colab": {
          "base_uri": "https://localhost:8080/"
        },
        "id": "y-7BpxfS2Pq2",
        "outputId": "cf9c3e68-c79b-4001-8053-0cabbbd9b41c"
      },
      "execution_count": null,
      "outputs": [
        {
          "output_type": "stream",
          "name": "stdout",
          "text": [
            "la moda de los tiempos es  [15.1, 17.2]\n"
          ]
        }
      ]
    },
    {
      "cell_type": "code",
      "source": [
        "#libreria para generar numeros aleatorios\n",
        "import random"
      ],
      "metadata": {
        "id": "Or4g8GHP2m8z"
      },
      "execution_count": null,
      "outputs": []
    },
    {
      "cell_type": "code",
      "source": [
        "fabrica1 = []\n",
        "for i in range(100):\n",
        "  numero_aleatorio = round(random.uniform(50,100),2)\n",
        "  fabrica1.append(numero_aleatorio)\n",
        "print(fabrica1)"
      ],
      "metadata": {
        "colab": {
          "base_uri": "https://localhost:8080/"
        },
        "id": "i2vDQoaj3MMU",
        "outputId": "afc7c93c-9c20-4ddd-811f-2e532db5a9df"
      },
      "execution_count": null,
      "outputs": [
        {
          "output_type": "stream",
          "name": "stdout",
          "text": [
            "[56.62, 71.02, 94.75, 50.64, 81.9, 70.97, 91.7, 95.04, 84.44, 70.66, 59.71, 93.57, 63.88, 75.51, 94.4, 95.99, 87.82, 55.69, 62.46, 73.2, 90.17, 87.15, 88.69, 86.74, 72.67, 86.04, 56.56, 61.7, 83.47, 91.25, 98.78, 75.8, 80.7, 77.0, 76.4, 86.22, 90.13, 58.66, 59.6, 77.6, 72.29, 90.02, 83.69, 52.61, 75.51, 50.96, 57.35, 79.3, 71.0, 91.67, 53.65, 62.56, 82.84, 90.84, 93.33, 53.69, 51.44, 63.24, 87.93, 93.05, 72.53, 63.45, 78.72, 55.45, 63.45, 52.5, 57.97, 68.28, 63.28, 61.08, 96.39, 91.44, 51.99, 79.27, 65.62, 74.6, 82.3, 73.92, 74.05, 85.2, 79.42, 52.66, 54.48, 71.81, 95.85, 72.56, 70.75, 68.19, 54.4, 70.71, 80.66, 88.16, 64.97, 72.42, 56.47, 66.08, 67.4, 92.01, 61.9, 93.08]\n"
          ]
        }
      ]
    },
    {
      "cell_type": "code",
      "source": [
        "fabrica2 = []\n",
        "for i in range(100):\n",
        "  numero_aleatorio = round(random.uniform(50,100),2)\n",
        "  fabrica2.append(numero_aleatorio)\n",
        "print(fabrica2)"
      ],
      "metadata": {
        "colab": {
          "base_uri": "https://localhost:8080/"
        },
        "id": "cRujP6td4lqt",
        "outputId": "94bc2636-5f66-42e8-9346-12ad8a854276"
      },
      "execution_count": null,
      "outputs": [
        {
          "output_type": "stream",
          "name": "stdout",
          "text": [
            "[70.16, 72.86, 76.46, 96.98, 71.09, 82.17, 54.97, 97.73, 92.13, 96.33, 99.39, 62.63, 65.39, 59.95, 50.12, 94.68, 91.78, 94.28, 68.92, 52.98, 85.64, 53.32, 73.49, 75.14, 53.69, 75.66, 85.9, 88.34, 96.86, 71.21, 61.17, 81.36, 89.21, 76.51, 53.59, 68.83, 70.43, 50.69, 91.31, 62.88, 51.12, 60.9, 54.93, 99.87, 65.83, 96.81, 68.61, 72.07, 70.87, 65.61, 84.21, 77.61, 66.73, 61.02, 97.72, 95.01, 65.1, 77.21, 53.68, 53.64, 67.59, 87.83, 70.31, 93.12, 71.91, 66.03, 89.73, 80.9, 82.58, 62.88, 99.12, 56.42, 90.52, 94.64, 80.18, 80.76, 54.02, 83.28, 95.11, 79.4, 89.56, 93.4, 67.3, 54.25, 68.85, 64.27, 51.06, 96.24, 73.45, 51.83, 52.76, 61.39, 63.36, 89.52, 53.05, 58.86, 76.66, 87.79, 57.95, 82.36]\n"
          ]
        }
      ]
    },
    {
      "cell_type": "code",
      "source": [
        "import matplotlib.pyplot as plt\n"
      ],
      "metadata": {
        "id": "Lak3IzEu46TB"
      },
      "execution_count": null,
      "outputs": []
    },
    {
      "cell_type": "code",
      "source": [
        "plt.hist(fabrica1)\n",
        "plt.title(\"produccion diaria de la fabrica1\")\n"
      ],
      "metadata": {
        "colab": {
          "base_uri": "https://localhost:8080/",
          "height": 322
        },
        "id": "Y0ZGVDGg5HQq",
        "outputId": "80dc318d-277d-479f-b280-56034fc5146f"
      },
      "execution_count": null,
      "outputs": [
        {
          "output_type": "execute_result",
          "data": {
            "text/plain": [
              "Text(0.5, 1.0, 'produccion diaria de la fabrica1')"
            ]
          },
          "metadata": {},
          "execution_count": 43
        },
        {
          "output_type": "display_data",
          "data": {
            "text/plain": [
              "<Figure size 640x480 with 1 Axes>"
            ],
            "image/png": "[encoded data removed]"
          },
          "metadata": {}
        }
      ]
    },
    {
      "cell_type": "code",
      "source": [
        "plt.hist(fabrica2)\n",
        "plt.title(\"produccion diaria de la fabrica2\")"
      ],
      "metadata": {
        "colab": {
          "base_uri": "https://localhost:8080/",
          "height": 323
        },
        "id": "ktCyHEy-5hDd",
        "outputId": "58a6bc32-f1da-4d1f-cc47-09c744471f77"
      },
      "execution_count": null,
      "outputs": [
        {
          "output_type": "execute_result",
          "data": {
            "text/plain": [
              "Text(0.5, 1.0, 'produccion diaria de la fabrica2')"
            ]
          },
          "metadata": {},
          "execution_count": 44
        },
        {
          "output_type": "display_data",
          "data": {
            "text/plain": [
              "<Figure size 640x480 with 1 Axes>"
            ],
            "image/png": "[encoded data removed]"
          },
          "metadata": {}
        }
      ]
    },
    {
      "cell_type": "code",
      "source": [
        "media1 = mean(fabrica1)\n",
        "mediana1 = median(fabrica1)\n",
        "moda1 = mode(fabrica1)\n",
        "\n",
        "print(\"valores de la fábrica 1\")\n",
        "print(\"la media es=\", media1)\n",
        "print(\"la moda es=\", mediana1)\n",
        "print(\"la moda es=\", moda1)"
      ],
      "metadata": {
        "colab": {
          "base_uri": "https://localhost:8080/"
        },
        "id": "PoQh7GGc8zRI",
        "outputId": "ac7e9209-fd99-415f-c4bc-3df24ad8f950"
      },
      "execution_count": null,
      "outputs": [
        {
          "output_type": "stream",
          "name": "stdout",
          "text": [
            "valores de la fábrica 1\n",
            "la media es= 74.1774\n",
            "la moda es= 73.56\n",
            "la moda es= 75.51\n"
          ]
        }
      ]
    },
    {
      "cell_type": "code",
      "source": [
        "media2 = mean(fabrica2)\n",
        "mediana2 = median(fabrica2)\n",
        "moda2 = mode(fabrica2)\n",
        "\n",
        "print(\"valores de la fábrica 2\")\n",
        "print(\"la media es=\", media2)\n",
        "print(\"la moda es=\", mediana2)\n",
        "print(\"la moda es=\", moda2)"
      ],
      "metadata": {
        "colab": {
          "base_uri": "https://localhost:8080/"
        },
        "id": "z0rFxKwYG_Jt",
        "outputId": "4a3cca73-5ed8-49a1-d9b9-d39aa11966ef"
      },
      "execution_count": null,
      "outputs": [
        {
          "output_type": "stream",
          "name": "stdout",
          "text": [
            "valores de la fábrica 2\n",
            "la media es= 74.3502\n",
            "la moda es= 72.465\n",
            "la moda es= 62.88\n"
          ]
        }
      ]
    },
    {
      "cell_type": "code",
      "source": [
        "fig, (ax1, ax2) =plt.subplots(nrows=1,ncols=2, figsize=(10,5))\n",
        "ax1.hist(fabrica1)\n",
        "ax2.hist(fabrica2)\n",
        "plt.show"
      ],
      "metadata": {
        "colab": {
          "base_uri": "https://localhost:8080/",
          "height": 361
        },
        "id": "x0fSl8dh7Fae",
        "outputId": "a00cb5dd-4fe1-4642-c56f-4ca1e5ed3511"
      },
      "execution_count": null,
      "outputs": [
        {
          "output_type": "execute_result",
          "data": {
            "text/plain": [
              "<function matplotlib.pyplot.show(close=None, block=None)>"
            ],
            "text/html": [
              "<div style=\"max-width:800px; border: 1px solid var(--colab-border-color);\"><style>\n",
              "      pre.function-repr-contents {\n",
              "        overflow-x: auto;\n",
              "        padding: 8px 12px;\n",
              "        max-height: 500px;\n",
              "      }\n",
              "\n",
              "      pre.function-repr-contents.function-repr-contents-collapsed {\n",
              "        cursor: pointer;\n",
              "        max-height: 100px;\n",
              "      }\n",
              "    </style>\n",
              "    <pre style=\"white-space: initial; background:\n",
              "         var(--colab-secondary-surface-color); padding: 8px 12px;\n",
              "         border-bottom: 1px solid var(--colab-border-color);\"><b>matplotlib.pyplot.show</b><br/>def show(*args, **kwargs) -&gt; None</pre><pre class=\"function-repr-contents function-repr-contents-collapsed\" style=\"\"><a class=\"filepath\" style=\"display:none\" href=\"#\">/usr/local/lib/python3.11/dist-packages/matplotlib/pyplot.py</a>Display all open figures.\n",
              "\n",
              "Parameters\n",
              "----------\n",
              "block : bool, optional\n",
              "    Whether to wait for all figures to be closed before returning.\n",
              "\n",
              "    If `True` block and run the GUI main loop until all figure windows\n",
              "    are closed.\n",
              "\n",
              "    If `False` ensure that all figure windows are displayed and return\n",
              "    immediately.  In this case, you are responsible for ensuring\n",
              "    that the event loop is running to have responsive figures.\n",
              "\n",
              "    Defaults to True in non-interactive mode and to False in interactive\n",
              "    mode (see `.pyplot.isinteractive`).\n",
              "\n",
              "See Also\n",
              "--------\n",
              "ion : Enable interactive mode, which shows / updates the figure after\n",
              "      every plotting command, so that calling ``show()`` is not necessary.\n",
              "ioff : Disable interactive mode.\n",
              "savefig : Save the figure to an image file instead of showing it on screen.\n",
              "\n",
              "Notes\n",
              "-----\n",
              "**Saving figures to file and showing a window at the same time**\n",
              "\n",
              "If you want an image file as well as a user interface window, use\n",
              "`.pyplot.savefig` before `.pyplot.show`. At the end of (a blocking)\n",
              "``show()`` the figure is closed and thus unregistered from pyplot. Calling\n",
              "`.pyplot.savefig` afterwards would save a new and thus empty figure. This\n",
              "limitation of command order does not apply if the show is non-blocking or\n",
              "if you keep a reference to the figure and use `.Figure.savefig`.\n",
              "\n",
              "**Auto-show in jupyter notebooks**\n",
              "\n",
              "The jupyter backends (activated via ``%matplotlib inline``,\n",
              "``%matplotlib notebook``, or ``%matplotlib widget``), call ``show()`` at\n",
              "the end of every cell by default. Thus, you usually don&#x27;t have to call it\n",
              "explicitly there.</pre>\n",
              "      <script>\n",
              "      if (google.colab.kernel.accessAllowed && google.colab.files && google.colab.files.view) {\n",
              "        for (const element of document.querySelectorAll('.filepath')) {\n",
              "          element.style.display = 'block'\n",
              "          element.onclick = (event) => {\n",
              "            event.preventDefault();\n",
              "            event.stopPropagation();\n",
              "            google.colab.files.view(element.textContent, 569);\n",
              "          };\n",
              "        }\n",
              "      }\n",
              "      for (const element of document.querySelectorAll('.function-repr-contents')) {\n",
              "        element.onclick = (event) => {\n",
              "          event.preventDefault();\n",
              "          event.stopPropagation();\n",
              "          element.classList.toggle('function-repr-contents-collapsed');\n",
              "        };\n",
              "      }\n",
              "      </script>\n",
              "      </div>"
            ]
          },
          "metadata": {},
          "execution_count": 53
        },
        {
          "output_type": "display_data",
          "data": {
            "text/plain": [
              "<Figure size 1000x500 with 2 Axes>"
            ],
            "image/png": "[encoded data removed]"
          },
          "metadata": {}
        }
      ]
    },
    {
      "cell_type": "code",
      "source": [
        "plt.hist(fabrica1, bins=10, alpha=0.2, color='b', edgecolor = \"black\")\n",
        "plt.axvline(media1, color='b', linestyle='dashed', linewidth=2, label='Media')\n",
        "plt.axvline(mediana1, color='r', linestyle='dashed', linewidth=2, label='Mediana')\n",
        "plt.axvline(moda1, color='y', linestyle='dashed', linewidth=2, label='Moda')\n",
        "plt. xlabel('Valor')\n",
        "plt.ylabel( 'Frecuencia')\n",
        "plt.title(\"Producción diaria de la fabrica 1\")\n",
        "plt. legend\n",
        "plt. show()"
      ],
      "metadata": {
        "collapsed": true,
        "colab": {
          "base_uri": "https://localhost:8080/",
          "height": 288
        },
        "id": "qagRcIuy8W_t",
        "outputId": "7c65c1fa-1352-4ce4-d0ce-91b3ba84ef1b"
      },
      "execution_count": null,
      "outputs": [
        {
          "output_type": "display_data",
          "data": {
            "text/plain": [
              "<Figure size 640x480 with 1 Axes>"
            ],
            "image/png": "[encoded data removed]"
          },
          "metadata": {}
        }
      ]
    },
    {
      "cell_type": "code",
      "source": [
        "plt.hist(fabrica2, bins=10, alpha=0.2, color='b', edgecolor=\"black\")\n",
        "plt.axvline(media2,color='b', linestyle='dashed', linewidth=2, label='media')\n",
        "plt.axvline(mediana2,color='r', linestyle='dashed', linewidth=2, label='mediana')\n",
        "plt.axvline(moda2,color='y', linestyle='dashed', linewidth=2, label='moda')\n",
        "plt.xlabel('valor')\n",
        "plt.ylabel('frecuencia')\n",
        "plt.title(\"producción diaria de la fábrica 2\")\n",
        "plt.legend()\n",
        "plt.show()"
      ],
      "metadata": {
        "colab": {
          "base_uri": "https://localhost:8080/",
          "height": 289
        },
        "id": "BzqXId4eGqrb",
        "outputId": "d114dd32-36ac-4d78-e7a6-f62fd4be4e56"
      },
      "execution_count": null,
      "outputs": [
        {
          "output_type": "display_data",
          "data": {
            "text/plain": [
              "<Figure size 640x480 with 1 Axes>"
            ],
            "image/png": "[encoded data removed]"
          },
          "metadata": {}
        }
      ]
    }
  ]
}