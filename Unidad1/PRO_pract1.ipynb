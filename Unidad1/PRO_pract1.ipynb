{
  "nbformat": 4,
  "nbformat_minor": 0,
  "metadata": {
    "colab": {
      "provenance": [],
      "name": "PRO_pract1.ipynb",
      "authorship_tag": "ABX9TyMa+gm57AzlXw+veGUHx8fi",
      "include_colab_link": true
    },
    "kernelspec": {
      "name": "python3",
      "display_name": "Python 3"
    },
    "language_info": {
      "name": "python"
    }
  },
  "cells": [
    {
      "cell_type": "markdown",
      "metadata": {
        "id": "view-in-github",
        "colab_type": "text"
      },
      "source": [
        "<a href=\"https://colab.research.google.com/github/Perla-arellano/Probabilidad-y-estad-stica-/blob/main/Unidad1/PRO_pract1.ipynb\" target=\"_parent\"><img src=\"https://colab.research.google.com/assets/colab-badge.svg\" alt=\"Open In Colab\"/></a>"
      ]
    },
    {
      "cell_type": "markdown",
      "source": [
        "# probabilidad y estadistica\n",
        "##1.practica estadistica descrptiva basica e histogramas.##\n",
        "unidad 1\n",
        "\n",
        "docente:Dr Jose gabriel Rodriguez rivas\n",
        "\n",
        "alumna: Arellano Santillan Perla yesenia"
      ],
      "metadata": {
        "id": "M2jNrtaFv-m0"
      }
    },
    {
      "cell_type": "code",
      "source": [
        "from statistics import*"
      ],
      "metadata": {
        "id": "2ZvSIVG5wA5W"
      },
      "execution_count": null,
      "outputs": []
    },
    {
      "cell_type": "code",
      "source": [
        "#lista de calificaciones del grupo a de probabilidad y estadistica\n",
        "grupoa = [70,70,65,90,100,95,45,80,73,20,100,96]\n",
        "print (grupoa)"
      ],
      "metadata": {
        "colab": {
          "base_uri": "https://localhost:8080/"
        },
        "id": "OBWSve0NwJam",
        "outputId": "bc8e83bb-723b-4ae0-d93c-91cfe1b0e344"
      },
      "execution_count": null,
      "outputs": [
        {
          "output_type": "stream",
          "name": "stdout",
          "text": [
            "[70, 70, 65, 90, 100, 95, 45, 80, 73, 20, 100, 96]\n"
          ]
        }
      ]
    },
    {
      "cell_type": "code",
      "source": [
        "#sacra la medida de las calificaciones con una formula\n",
        "\n",
        "promedio = sum(grupoa)/ len(grupoa)\n",
        "print(promedio)"
      ],
      "metadata": {
        "colab": {
          "base_uri": "https://localhost:8080/"
        },
        "id": "KcdiFVLHxfzj",
        "outputId": "522611e1-a878-43cc-aaf8-558bb88878c2"
      },
      "execution_count": null,
      "outputs": [
        {
          "output_type": "stream",
          "name": "stdout",
          "text": [
            "75.33333333333333\n"
          ]
        }
      ]
    },
    {
      "cell_type": "code",
      "source": [
        "#utilizar la funcion mean que esta en la libreria satistics para sacar\n",
        "#el promedio\n",
        "promedio2 = mean(grupoa)\n",
        "print(promedio2)"
      ],
      "metadata": {
        "colab": {
          "base_uri": "https://localhost:8080/"
        },
        "collapsed": true,
        "id": "GIijIApOx6qY",
        "outputId": "b387c11e-0c51-4619-b8c3-891b74f68c56"
      },
      "execution_count": null,
      "outputs": [
        {
          "output_type": "stream",
          "name": "stdout",
          "text": [
            "75.33333333333333\n"
          ]
        }
      ]
    },
    {
      "cell_type": "code",
      "source": [
        "#determinar el valor de la mediana con la funcion median\n",
        "mediana = median(grupoa)\n",
        "print(mediana)"
      ],
      "metadata": {
        "colab": {
          "base_uri": "https://localhost:8080/"
        },
        "id": "ZLyRxEm2ycZ7",
        "outputId": "06ab3426-9496-44b2-c6af-50572b4a9494"
      },
      "execution_count": null,
      "outputs": [
        {
          "output_type": "stream",
          "name": "stdout",
          "text": [
            "76.5\n"
          ]
        }
      ]
    },
    {
      "cell_type": "code",
      "source": [
        "#determinar el valor de la moda con la funcion mode\n",
        "moda=mode(grupoa)\n",
        "print(moda)"
      ],
      "metadata": {
        "colab": {
          "base_uri": "https://localhost:8080/"
        },
        "id": "8bI5XNEBzjIb",
        "outputId": "b1052e5e-12f7-4c25-f37d-e84cdb24ace3"
      },
      "execution_count": null,
      "outputs": [
        {
          "output_type": "stream",
          "name": "stdout",
          "text": [
            "70\n"
          ]
        }
      ]
    },
    {
      "cell_type": "code",
      "source": [
        "#en caso de que exista mas de una moda, se pued emplear la funcion multimode par\n",
        "#multiples modas puedan existir\n",
        "moda2 =multimode(grupoa)\n"
      ],
      "metadata": {
        "id": "6vtSb1_8z_V6"
      },
      "execution_count": null,
      "outputs": []
    },
    {
      "cell_type": "code",
      "source": [
        "#definamos una variable llamada tiempos 100mts de tipo lista, que contiene\n",
        "#los tiempos que tardaron los 10 alumnos para correr los 10 metros\n",
        "tiempos100mts=[15.10, 17.20,14.69, 13.27,22.15,18.71,19.15,20.65,15.10,17.20]\n",
        "\n",
        "#desplegamos los valores de la lista\n",
        "print(tiempos100mts)"
      ],
      "metadata": {
        "colab": {
          "base_uri": "https://localhost:8080/"
        },
        "id": "V30TzhQp0WB4",
        "outputId": "2cc8b7a5-b830-4d31-aeff-6b075654a437"
      },
      "execution_count": null,
      "outputs": [
        {
          "output_type": "stream",
          "name": "stdout",
          "text": [
            "[15.1, 17.2, 14.69, 13.27, 22.15, 18.71, 19.15, 20.65, 15.1, 17.2]\n"
          ]
        }
      ]
    },
    {
      "cell_type": "code",
      "source": [
        "#usamos la funcion mean para determinar promedio de la lista de valores\n",
        "\n",
        "print(\"el tiempo de los corredores es=>\", mean(tiempos100mts))"
      ],
      "metadata": {
        "colab": {
          "base_uri": "https://localhost:8080/"
        },
        "id": "BDLV1Pkm1LyW",
        "outputId": "25e84d55-ef6a-47a1-fe4b-de739ab8ea21"
      },
      "execution_count": null,
      "outputs": [
        {
          "output_type": "stream",
          "name": "stdout",
          "text": [
            "el tiempo de los corredores es=> 17.322\n"
          ]
        }
      ]
    },
    {
      "cell_type": "code",
      "source": [
        "#usamos la funcion median para determinar el tiempo promedio de la lista de valores\n",
        "\n",
        "#definimos una variable llamada media para calcular la mediana de la lista con un median"
      ],
      "metadata": {
        "id": "KNkhEI0H1n6y"
      },
      "execution_count": null,
      "outputs": []
    },
    {
      "cell_type": "code",
      "source": [
        "moda = mode(tiempos100mts)\n",
        "print(\"la moda de los tiempos\",moda)"
      ],
      "metadata": {
        "colab": {
          "base_uri": "https://localhost:8080/"
        },
        "id": "X-qjoUuo19E5",
        "outputId": "fe8b69e7-3f1c-4e1d-dc3b-14c1040873a3"
      },
      "execution_count": null,
      "outputs": [
        {
          "output_type": "stream",
          "name": "stdout",
          "text": [
            "la moda de los tiempos 15.1\n"
          ]
        }
      ]
    },
    {
      "cell_type": "code",
      "source": [
        "multimodas =multimode(tiempos100mts)\n",
        "print(\"la moda de los tiempos es \",multimodas)"
      ],
      "metadata": {
        "colab": {
          "base_uri": "https://localhost:8080/"
        },
        "id": "y-7BpxfS2Pq2",
        "outputId": "a35cf11e-6fc8-441c-9666-021efae24716"
      },
      "execution_count": null,
      "outputs": [
        {
          "output_type": "stream",
          "name": "stdout",
          "text": [
            "la moda de los tiempos es  [15.1, 17.2]\n"
          ]
        }
      ]
    },
    {
      "cell_type": "code",
      "source": [
        "#libreria para generar numeros aleatorios\n",
        "import random"
      ],
      "metadata": {
        "id": "Or4g8GHP2m8z"
      },
      "execution_count": null,
      "outputs": []
    },
    {
      "cell_type": "code",
      "source": [
        "fabrica1 = []\n",
        "for i in range(100):\n",
        "  numero_aleatorio = round(random.uniform(50,100),2)\n",
        "  fabrica1.append(numero_aleatorio)\n",
        "print(fabrica1)"
      ],
      "metadata": {
        "colab": {
          "base_uri": "https://localhost:8080/"
        },
        "id": "i2vDQoaj3MMU",
        "outputId": "78f0730c-4856-4f5c-fdb5-0ed974cf3f13"
      },
      "execution_count": null,
      "outputs": [
        {
          "output_type": "stream",
          "name": "stdout",
          "text": [
            "[61.56, 62.21, 67.99, 95.1, 63.44, 52.16, 86.28, 65.26, 87.29, 66.74, 99.35, 60.49, 57.79, 88.77, 58.2, 97.04, 89.84, 66.23, 99.17, 81.29, 53.73, 72.16, 62.84, 93.29, 74.54, 64.7, 95.1, 58.55, 67.08, 71.89, 54.26, 78.42, 96.46, 76.93, 51.47, 68.74, 52.03, 69.37, 86.1, 63.97, 81.29, 85.57, 96.41, 61.13, 58.1, 90.1, 55.83, 93.51, 56.28, 70.69, 60.71, 71.17, 94.41, 50.71, 83.44, 74.75, 93.9, 59.18, 78.38, 99.05, 65.94, 51.62, 80.49, 53.65, 66.22, 69.06, 91.64, 99.37, 95.12, 84.49, 61.36, 86.08, 75.23, 59.34, 80.33, 63.17, 79.53, 52.01, 90.97, 86.53, 87.9, 84.07, 82.49, 98.03, 80.29, 98.9, 93.06, 66.54, 52.84, 51.91, 51.01, 85.81, 66.33, 96.18, 68.89, 93.94, 50.55, 87.08, 74.42, 88.43]\n"
          ]
        }
      ]
    },
    {
      "cell_type": "code",
      "source": [
        "fabrica2 = []\n",
        "for i in range(100):\n",
        "  numero_aleatorio = round(random.uniform(50,100),2)\n",
        "  fabrica2.append(numero_aleatorio)\n",
        "print(fabrica2)"
      ],
      "metadata": {
        "colab": {
          "base_uri": "https://localhost:8080/"
        },
        "id": "cRujP6td4lqt",
        "outputId": "4993e693-c88f-4021-fff5-bc5dbd003570"
      },
      "execution_count": null,
      "outputs": [
        {
          "output_type": "stream",
          "name": "stdout",
          "text": [
            "[98.71, 52.17, 76.4, 74.32, 59.51, 94.93, 54.69, 65.6, 83.28, 52.38, 95.51, 80.19, 58.26, 58.36, 78.1, 79.45, 95.33, 70.49, 79.71, 60.98, 87.99, 94.96, 88.66, 90.6, 75.33, 99.34, 66.79, 94.22, 83.44, 68.48, 55.99, 56.5, 71.03, 90.2, 85.45, 98.53, 55.94, 67.43, 64.9, 67.7, 89.38, 62.32, 77.09, 89.09, 64.52, 76.56, 68.74, 57.3, 93.33, 57.58, 81.85, 77.06, 65.42, 70.98, 58.1, 57.73, 90.58, 56.11, 71.7, 94.33, 95.04, 80.21, 96.32, 76.25, 72.95, 93.75, 74.02, 75.19, 74.13, 90.75, 85.04, 86.82, 58.72, 58.13, 58.14, 61.96, 91.68, 56.69, 88.03, 92.01, 78.33, 64.12, 59.3, 67.03, 96.86, 75.67, 93.85, 70.1, 70.8, 82.86, 55.96, 58.31, 82.79, 58.9, 51.47, 52.27, 83.3, 72.29, 86.24, 84.49]\n"
          ]
        }
      ]
    },
    {
      "cell_type": "code",
      "source": [
        "import matplotlib.pyplot as plt\n"
      ],
      "metadata": {
        "id": "Lak3IzEu46TB"
      },
      "execution_count": null,
      "outputs": []
    },
    {
      "cell_type": "code",
      "source": [
        "plt.hist(fabrica1)\n",
        "plt.title(\"produccion diaria de la fabrica1\")\n"
      ],
      "metadata": {
        "colab": {
          "base_uri": "https://localhost:8080/",
          "height": 323
        },
        "id": "Y0ZGVDGg5HQq",
        "outputId": "1b5e1a55-a4fb-4798-9d01-93002c38a49c"
      },
      "execution_count": null,
      "outputs": [
        {
          "output_type": "execute_result",
          "data": {
            "text/plain": [
              "Text(0.5, 1.0, 'produccion diaria de la fabrica1')"
            ]
          },
          "metadata": {},
          "execution_count": 17
        },
        {
          "output_type": "display_data",
          "data": {
            "text/plain": [
              "<Figure size 640x480 with 1 Axes>"
            ],
            "image/png": "[encoded data removed]"
          },
          "metadata": {}
        }
      ]
    },
    {
      "cell_type": "code",
      "source": [
        "plt.hist(fabrica2)\n",
        "plt.title(\"produccion diaria de la fabrica2\")"
      ],
      "metadata": {
        "colab": {
          "base_uri": "https://localhost:8080/",
          "height": 323
        },
        "id": "ktCyHEy-5hDd",
        "outputId": "63d7087d-3575-4e40-f12a-8c75adf08dc3"
      },
      "execution_count": null,
      "outputs": [
        {
          "output_type": "execute_result",
          "data": {
            "text/plain": [
              "Text(0.5, 1.0, 'produccion diaria de la fabrica2')"
            ]
          },
          "metadata": {},
          "execution_count": 18
        },
        {
          "output_type": "display_data",
          "data": {
            "text/plain": [
              "<Figure size 640x480 with 1 Axes>"
            ],
            "image/png": "[encoded data removed]"
          },
          "metadata": {}
        }
      ]
    },
    {
      "cell_type": "code",
      "source": [
        "media1 = mean(fabrica1)\n",
        "mediana1 = median(fabrica1)\n",
        "moda1 = mode(fabrica1)\n",
        "\n",
        "print(\"valores de la fábrica 1\")\n",
        "print(\"la media es=\", media1)\n",
        "print(\"la moda es=\", mediana1)\n",
        "print(\"la moda es=\", moda1)"
      ],
      "metadata": {
        "colab": {
          "base_uri": "https://localhost:8080/"
        },
        "id": "PoQh7GGc8zRI",
        "outputId": "8c60b5e8-6fac-45b3-ea97-a556b89f8666"
      },
      "execution_count": null,
      "outputs": [
        {
          "output_type": "stream",
          "name": "stdout",
          "text": [
            "valores de la fábrica 1\n",
            "la media es= 74.8326\n",
            "la moda es= 74.48\n",
            "la moda es= 95.1\n"
          ]
        }
      ]
    },
    {
      "cell_type": "code",
      "source": [
        "media2 = mean(fabrica2)\n",
        "mediana2 = median(fabrica2)\n",
        "moda2 = mode(fabrica2)\n",
        "\n",
        "print(\"valores de la fábrica 2\")\n",
        "print(\"la media es=\", media2)\n",
        "print(\"la moda es=\", mediana2)\n",
        "print(\"la moda es=\", moda2)"
      ],
      "metadata": {
        "colab": {
          "base_uri": "https://localhost:8080/"
        },
        "id": "z0rFxKwYG_Jt",
        "outputId": "61d57dfa-8ff3-4c05-e779-d0cd7edffac9"
      },
      "execution_count": null,
      "outputs": [
        {
          "output_type": "stream",
          "name": "stdout",
          "text": [
            "valores de la fábrica 2\n",
            "la media es= 75.0239\n",
            "la moda es= 75.25999999999999\n",
            "la moda es= 98.71\n"
          ]
        }
      ]
    },
    {
      "cell_type": "code",
      "source": [
        "fig,(ax1,ax2) = plt.subplots(nrows =1, ncols=2, figsize=(10,5))\n",
        "ax1.hist(fabrica1)\n",
        "ax2.hist(fabrica2)\n",
        "plt.show()"
      ],
      "metadata": {
        "colab": {
          "base_uri": "https://localhost:8080/",
          "height": 192
        },
        "id": "DTcDFgAGKEaK",
        "outputId": "6d7339cb-f501-4e11-b1a6-65829fc75594"
      },
      "execution_count": null,
      "outputs": [
        {
          "output_type": "display_data",
          "data": {
            "text/plain": [
              "<Figure size 1000x500 with 2 Axes>"
            ],
            "image/png": "[encoded data removed]"
          },
          "metadata": {}
        }
      ]
    },
    {
      "cell_type": "code",
      "source": [
        "plt.hist(fabrica1, bins=10, alpha=0.2, color='b', edgecolor = \"black\")\n",
        "plt.axvline(media1, color='b', linestyle='dashed', linewidth=2, label='Media')\n",
        "plt.axvline(mediana1, color='r', linestyle='dashed', linewidth=2, label='Mediana')\n",
        "plt.axvline(moda1, color='y', linestyle='dashed', linewidth=2, label='Moda')\n",
        "plt. xlabel('Valor')\n",
        "plt.ylabel( 'Frecuencia')\n",
        "plt.title(\"Producción diaria de la fabrica 1\")\n",
        "plt. legend\n",
        "plt. show()"
      ],
      "metadata": {
        "collapsed": true,
        "colab": {
          "base_uri": "https://localhost:8080/",
          "height": 290
        },
        "id": "qagRcIuy8W_t",
        "outputId": "4b9cab02-efb8-49c4-c2fb-933691d496a7"
      },
      "execution_count": null,
      "outputs": [
        {
          "output_type": "display_data",
          "data": {
            "text/plain": [
              "<Figure size 640x480 with 1 Axes>"
            ],
            "image/png": "[encoded data removed]"
          },
          "metadata": {}
        }
      ]
    },
    {
      "cell_type": "code",
      "source": [
        "plt.hist(fabrica2, bins=10, alpha=0.2, color='b', edgecolor=\"black\")\n",
        "plt.axvline(media2,color='b', linestyle='dashed', linewidth=2, label='media')\n",
        "plt.axvline(mediana2,color='r', linestyle='dashed', linewidth=2, label='mediana')\n",
        "plt.axvline(moda2,color='y', linestyle='dashed', linewidth=2, label='moda')\n",
        "plt.xlabel('valor')\n",
        "plt.ylabel('frecuencia')\n",
        "plt.title(\"producción diaria de la fábrica 2\")\n",
        "plt.legend()\n",
        "plt.show()"
      ],
      "metadata": {
        "colab": {
          "base_uri": "https://localhost:8080/",
          "height": 289
        },
        "id": "BzqXId4eGqrb",
        "outputId": "6ba6213f-7515-4600-f567-54af2a6c435e"
      },
      "execution_count": null,
      "outputs": [
        {
          "output_type": "display_data",
          "data": {
            "text/plain": [
              "<Figure size 640x480 with 1 Axes>"
            ],
            "image/png": "[encoded data removed]"
          },
          "metadata": {}
        }
      ]
    }
  ]
}