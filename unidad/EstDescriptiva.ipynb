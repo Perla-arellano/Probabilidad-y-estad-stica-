{
  "nbformat": 4,
  "nbformat_minor": 0,
  "metadata": {
    "colab": {
      "provenance": [],
      "authorship_tag": "ABX9TyPpLQxruSRXRbCCzd1OStVq",
      "include_colab_link": true
    },
    "kernelspec": {
      "name": "python3",
      "display_name": "Python 3"
    },
    "language_info": {
      "name": "python"
    }
  },
  "cells": [
    {
      "cell_type": "markdown",
      "metadata": {
        "id": "view-in-github",
        "colab_type": "text"
      },
      "source": [
        "<a href=\"https://colab.research.google.com/github/Perla-arellano/Probabilidad-y-estad-stica-/blob/main/unidad/EstDescriptiva.ipynb\" target=\"_parent\"><img src=\"https://colab.research.google.com/assets/colab-badge.svg\" alt=\"Open In Colab\"/></a>"
      ]
    },
    {
      "cell_type": "code",
      "execution_count": null,
      "metadata": {
        "id": "jO0q6R9NfgJi"
      },
      "outputs": [],
      "source": [
        "import pandas as pd\n",
        "import matplotlib as plt\n",
        "import seaborn as sns\n",
        "import seaborn as sns\n",
        "from matplotlib import pyplot"
      ]
    },
    {
      "cell_type": "code",
      "source": [
        "#cargar el archivo CSV en una variable llamada covid\n",
        "df =\n",
        "pd.read_excel(\"autos2.xlsx\")"
      ],
      "metadata": {
        "id": "Qe7G66angKdj",
        "outputId": "c3cc3c21-c9a7-4bc3-9166-c821c0e23cfd",
        "colab": {
          "base_uri": "https://localhost:8080/",
          "height": 106
        }
      },
      "execution_count": null,
      "outputs": [
        {
          "output_type": "error",
          "ename": "SyntaxError",
          "evalue": "invalid syntax (<ipython-input-5-4a6cdf9a64c8>, line 2)",
          "traceback": [
            "\u001b[0;36m  File \u001b[0;32m\"<ipython-input-5-4a6cdf9a64c8>\"\u001b[0;36m, line \u001b[0;32m2\u001b[0m\n\u001b[0;31m    df =\u001b[0m\n\u001b[0m         ^\u001b[0m\n\u001b[0;31mSyntaxError\u001b[0m\u001b[0;31m:\u001b[0m invalid syntax\n"
          ]
        }
      ]
    },
    {
      "cell_type": "code",
      "source": [
        "#Mostramos los primeros 5 registros del archivo\n",
        "covid.head()"
      ],
      "metadata": {
        "id": "xFWmX6ruiHn6"
      },
      "execution_count": null,
      "outputs": []
    },
    {
      "cell_type": "code",
      "source": [
        "#mostrar la informacion del archivo.\n",
        "#muestra el numero de registros, tipos de datos de la columna,valores nulos, memoria utilizada,\n",
        "covid.info()"
      ],
      "metadata": {
        "id": "YoIg_XMQkLar"
      },
      "execution_count": null,
      "outputs": []
    },
    {
      "cell_type": "code",
      "source": [
        "#Mostrar la edad maxima de la base de datos de la columna edad\n",
        "covid.EDAD.max()"
      ],
      "metadata": {
        "id": "SIOJr9Mtlasm"
      },
      "execution_count": null,
      "outputs": []
    },
    {
      "cell_type": "code",
      "source": [
        "#Mostrar la edad minima de la base de datos de la columna edad\n",
        "covid.EDAD.min()"
      ],
      "metadata": {
        "id": "kmvxItU9mIaC"
      },
      "execution_count": null,
      "outputs": []
    },
    {
      "cell_type": "code",
      "source": [
        "#Mostrar las estadisticas descriptivos de la columna\n",
        "covid.EDAD.describe()"
      ],
      "metadata": {
        "id": "HXOtMC4lmVdm"
      },
      "execution_count": null,
      "outputs": []
    },
    {
      "cell_type": "code",
      "source": [
        "#dibuja el histograma del atributo \"EDAD\"  con bins=3\n",
        "#calcular la media y guardarla en una variable para mostrarla en el histrograma\n",
        "media = covid.EDAD.mean()\n",
        "plt.pyplot.hist(covid.EDAD, bins = 11)\n",
        "plt.pyplot.title(\"Histograma Edad Pruebas COVID\")\n",
        "plt.pyplot.axvline(media, color='y', linestyle='dashed' , linewidth=2, label=f'Media={media:.2f}')\n",
        "plt.pyplot.xlabel(\"Edad\")\n",
        "plt.pyplot.ylabel(\"Frecuencia\")"
      ],
      "metadata": {
        "id": "cTeq60Zumw7D"
      },
      "execution_count": null,
      "outputs": []
    },
    {
      "cell_type": "code",
      "source": [
        "#Dibuja el histograma d ela columna sexo,\n",
        "#esto permite comparar cuantas hay de cada grupo\n",
        "plt.pyplot.hist(covid.SEXO, bins=3)\n",
        "\n",
        "#establece las etiquetas x/y y muestra el titulo\n",
        "plt.pyplot.title(\"Histogramas Sexo de Pruebas COVID\")\n",
        "plt.pyplot.xlabel(\"Sexo\")\n",
        "plt.pyplot.ylabel(\"Frecuencia\")"
      ],
      "metadata": {
        "id": "YT1ArRGIr7KY"
      },
      "execution_count": null,
      "outputs": []
    }
  ]
}